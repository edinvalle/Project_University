{
 "cells": [
  {
   "cell_type": "markdown",
   "id": "506ba9e7-84ca-4fff-a549-f4b0f460f511",
   "metadata": {},
   "source": [
    "<h2 style=\"text-align:center; line-height:1.5;\">Impacto de la Concentración de Mercado en los<br>Precios del Sector Gasolinero en Guatemala</h2>\r\n",
    "\n"
   ]
  },
  {
   "cell_type": "code",
   "execution_count": 1,
   "id": "f6768c72-df0e-4477-9c8b-dd7963a95846",
   "metadata": {},
   "outputs": [
    {
     "data": {
      "text/html": [
       "<style>\n",
       ".list-inline {list-style: none; margin:0; padding: 0}\n",
       ".list-inline>li {display: inline-block}\n",
       ".list-inline>li:not(:last-child)::after {content: \"\\00b7\"; padding: 0 .5ex}\n",
       "</style>\n",
       "<ol class=list-inline><li>'Años'</li><li>'PGS'</li><li>'PGR'</li><li>'PD'</li><li>'PPC'</li><li>'CGS'</li><li>'CGR'</li><li>'CD'</li><li>'REZAGOGS'</li></ol>\n"
      ],
      "text/latex": [
       "\\begin{enumerate*}\n",
       "\\item 'Años'\n",
       "\\item 'PGS'\n",
       "\\item 'PGR'\n",
       "\\item 'PD'\n",
       "\\item 'PPC'\n",
       "\\item 'CGS'\n",
       "\\item 'CGR'\n",
       "\\item 'CD'\n",
       "\\item 'REZAGOGS'\n",
       "\\end{enumerate*}\n"
      ],
      "text/markdown": [
       "1. 'Años'\n",
       "2. 'PGS'\n",
       "3. 'PGR'\n",
       "4. 'PD'\n",
       "5. 'PPC'\n",
       "6. 'CGS'\n",
       "7. 'CGR'\n",
       "8. 'CD'\n",
       "9. 'REZAGOGS'\n",
       "\n",
       "\n"
      ],
      "text/plain": [
       "[1] \"Años\"     \"PGS\"      \"PGR\"      \"PD\"       \"PPC\"      \"CGS\"      \"CGR\"     \n",
       "[8] \"CD\"       \"REZAGOGS\""
      ]
     },
     "metadata": {},
     "output_type": "display_data"
    }
   ],
   "source": [
    "suppressPackageStartupMessages({\n",
    "# Cargar las librerías necesarias\n",
    "library(readxl) \n",
    "library(dplyr)   \n",
    "library(knitr) \n",
    "library(tidyr)  \n",
    "library(ggplot2)\n",
    "library(lmtest)\n",
    "library(tseries)\n",
    "library(gridExtra)\n",
    "library(psych)\n",
    "})\n",
    "\n",
    "# Leer el archivo Excel \n",
    "df <- read_excel(\"~/Rstudio/EconometriaI/Dataset.xlsx\", \n",
    "                 sheet = \"Hoja1\")\n",
    "\n",
    "# Cambiar los nombres de las columnas \n",
    "colnames(df) <- c(\"Años\", \"PGS\", \"PGR\", \"PD\", \n",
    "                  \"PPC\", \"CGS\", \"CGR\", \"CD\", \"REZAGOGS\")\n",
    "\n",
    "# Verificar los nombres de las columnas\n",
    "colnames(df)\n",
    "\n",
    "# Asegurarse de que la columna \"Años\" esté en formato Date\n",
    "df <- df %>%\n",
    "  mutate(Años = as.Date(Años))  \n"
   ]
  },
  {
   "cell_type": "code",
   "execution_count": 2,
   "id": "6b4ef5d2-9e41-40df-8c12-b3dd94389fe6",
   "metadata": {},
   "outputs": [
    {
     "data": {
      "text/html": [
       "<table class=\"dataframe\">\n",
       "<caption>A tibble: 6 × 9</caption>\n",
       "<thead>\n",
       "\t<tr><th scope=col>Años</th><th scope=col>PGS</th><th scope=col>PGR</th><th scope=col>PD</th><th scope=col>PPC</th><th scope=col>CGS</th><th scope=col>CGR</th><th scope=col>CD</th><th scope=col>REZAGOGS</th></tr>\n",
       "\t<tr><th scope=col>&lt;date&gt;</th><th scope=col>&lt;dbl&gt;</th><th scope=col>&lt;dbl&gt;</th><th scope=col>&lt;dbl&gt;</th><th scope=col>&lt;dbl&gt;</th><th scope=col>&lt;dbl&gt;</th><th scope=col>&lt;dbl&gt;</th><th scope=col>&lt;dbl&gt;</th><th scope=col>&lt;dbl&gt;</th></tr>\n",
       "</thead>\n",
       "<tbody>\n",
       "\t<tr><td>2021-01-01</td><td>23.82</td><td>23.01</td><td>19.10</td><td>61.50</td><td>655512.7</td><td>685943.0</td><td>1220638</td><td>0.00</td></tr>\n",
       "\t<tr><td>2021-02-01</td><td>25.53</td><td>24.74</td><td>20.53</td><td>59.16</td><td>621712.1</td><td>669312.9</td><td>1272609</td><td>1.71</td></tr>\n",
       "\t<tr><td>2021-03-01</td><td>27.70</td><td>26.89</td><td>22.27</td><td>63.58</td><td>692240.5</td><td>773453.5</td><td>1417380</td><td>2.17</td></tr>\n",
       "\t<tr><td>2021-04-01</td><td>28.03</td><td>27.22</td><td>21.77</td><td>66.32</td><td>610310.8</td><td>688389.0</td><td>1268491</td><td>0.33</td></tr>\n",
       "\t<tr><td>2021-05-01</td><td>28.80</td><td>27.98</td><td>22.71</td><td>73.47</td><td>643076.8</td><td>707336.4</td><td>1188223</td><td>0.77</td></tr>\n",
       "\t<tr><td>2021-06-01</td><td>28.85</td><td>27.90</td><td>23.23</td><td>73.95</td><td>637332.8</td><td>692598.7</td><td>1128077</td><td>0.05</td></tr>\n",
       "</tbody>\n",
       "</table>\n"
      ],
      "text/latex": [
       "A tibble: 6 × 9\n",
       "\\begin{tabular}{lllllllll}\n",
       " Años & PGS & PGR & PD & PPC & CGS & CGR & CD & REZAGOGS\\\\\n",
       " <date> & <dbl> & <dbl> & <dbl> & <dbl> & <dbl> & <dbl> & <dbl> & <dbl>\\\\\n",
       "\\hline\n",
       "\t 2021-01-01 & 23.82 & 23.01 & 19.10 & 61.50 & 655512.7 & 685943.0 & 1220638 & 0.00\\\\\n",
       "\t 2021-02-01 & 25.53 & 24.74 & 20.53 & 59.16 & 621712.1 & 669312.9 & 1272609 & 1.71\\\\\n",
       "\t 2021-03-01 & 27.70 & 26.89 & 22.27 & 63.58 & 692240.5 & 773453.5 & 1417380 & 2.17\\\\\n",
       "\t 2021-04-01 & 28.03 & 27.22 & 21.77 & 66.32 & 610310.8 & 688389.0 & 1268491 & 0.33\\\\\n",
       "\t 2021-05-01 & 28.80 & 27.98 & 22.71 & 73.47 & 643076.8 & 707336.4 & 1188223 & 0.77\\\\\n",
       "\t 2021-06-01 & 28.85 & 27.90 & 23.23 & 73.95 & 637332.8 & 692598.7 & 1128077 & 0.05\\\\\n",
       "\\end{tabular}\n"
      ],
      "text/markdown": [
       "\n",
       "A tibble: 6 × 9\n",
       "\n",
       "| Años &lt;date&gt; | PGS &lt;dbl&gt; | PGR &lt;dbl&gt; | PD &lt;dbl&gt; | PPC &lt;dbl&gt; | CGS &lt;dbl&gt; | CGR &lt;dbl&gt; | CD &lt;dbl&gt; | REZAGOGS &lt;dbl&gt; |\n",
       "|---|---|---|---|---|---|---|---|---|\n",
       "| 2021-01-01 | 23.82 | 23.01 | 19.10 | 61.50 | 655512.7 | 685943.0 | 1220638 | 0.00 |\n",
       "| 2021-02-01 | 25.53 | 24.74 | 20.53 | 59.16 | 621712.1 | 669312.9 | 1272609 | 1.71 |\n",
       "| 2021-03-01 | 27.70 | 26.89 | 22.27 | 63.58 | 692240.5 | 773453.5 | 1417380 | 2.17 |\n",
       "| 2021-04-01 | 28.03 | 27.22 | 21.77 | 66.32 | 610310.8 | 688389.0 | 1268491 | 0.33 |\n",
       "| 2021-05-01 | 28.80 | 27.98 | 22.71 | 73.47 | 643076.8 | 707336.4 | 1188223 | 0.77 |\n",
       "| 2021-06-01 | 28.85 | 27.90 | 23.23 | 73.95 | 637332.8 | 692598.7 | 1128077 | 0.05 |\n",
       "\n"
      ],
      "text/plain": [
       "  Años       PGS   PGR   PD    PPC   CGS      CGR      CD      REZAGOGS\n",
       "1 2021-01-01 23.82 23.01 19.10 61.50 655512.7 685943.0 1220638 0.00    \n",
       "2 2021-02-01 25.53 24.74 20.53 59.16 621712.1 669312.9 1272609 1.71    \n",
       "3 2021-03-01 27.70 26.89 22.27 63.58 692240.5 773453.5 1417380 2.17    \n",
       "4 2021-04-01 28.03 27.22 21.77 66.32 610310.8 688389.0 1268491 0.33    \n",
       "5 2021-05-01 28.80 27.98 22.71 73.47 643076.8 707336.4 1188223 0.77    \n",
       "6 2021-06-01 28.85 27.90 23.23 73.95 637332.8 692598.7 1128077 0.05    "
      ]
     },
     "metadata": {},
     "output_type": "display_data"
    }
   ],
   "source": [
    "# Verificar los datos después de la limpieza\n",
    "head(df)"
   ]
  },
  {
   "cell_type": "code",
   "execution_count": 3,
   "id": "f4f43b9b-8400-470a-8b7f-e8da1103f13b",
   "metadata": {},
   "outputs": [
    {
     "data": {
      "text/plain": [
       "      PGS             PGR              PD             PPC        \n",
       " Min.   :23.82   Min.   :23.01   Min.   :19.10   Min.   : 59.16  \n",
       " 1st Qu.:30.15   1st Qu.:29.08   1st Qu.:25.19   1st Qu.: 73.02  \n",
       " Median :34.53   Median :33.09   Median :30.54   Median : 78.27  \n",
       " Mean   :33.60   Mean   :32.39   Mean   :29.92   Mean   : 80.56  \n",
       " 3rd Qu.:36.46   3rd Qu.:35.19   3rd Qu.:34.53   3rd Qu.: 86.94  \n",
       " Max.   :42.14   Max.   :40.16   Max.   :39.93   Max.   :114.67  \n",
       " NA's   :1       NA's   :1       NA's   :1       NA's   :1       \n",
       "      CGS              CGR               CD             REZAGOGS       \n",
       " Min.   :483992   Min.   :661522   Min.   : 979243   Min.   :-30.5700  \n",
       " 1st Qu.:575919   1st Qu.:703199   1st Qu.:1126507   1st Qu.: -0.8500  \n",
       " Median :613301   Median :769979   Median :1211760   Median :  0.0600  \n",
       " Mean   :610827   Mean   :758400   Mean   :1209092   Mean   : -0.6438  \n",
       " 3rd Qu.:642053   3rd Qu.:799422   3rd Qu.:1271580   3rd Qu.:  0.9400  \n",
       " Max.   :768103   Max.   :875010   Max.   :1463008   Max.   :  5.2800  \n",
       " NA's   :3        NA's   :3        NA's   :3                           "
      ]
     },
     "metadata": {},
     "output_type": "display_data"
    }
   ],
   "source": [
    "# Resumen estadístico de los datos sin la columna \"Años\"\n",
    "summary(df %>% select(-Años))"
   ]
  },
  {
   "cell_type": "markdown",
   "id": "0f1e6a29-9279-4123-8acb-315941423f7d",
   "metadata": {},
   "source": [
    "<div style=\"font-size: 18px; text-align: justify;\">\n",
    "El análisis muestra que los precios de las gasolinas súper (PGS), regular (PGR) y diésel\n",
    "(PD) tienen medias entre 29 y 34, reflejando estabilidad. En contraste, el petróleo crudo\n",
    "(PPC) es más volátil, con una media de 80.56 y un máximo de 114.67.\n",
    "En términos de consumo, la gasolina regular (CGR) y súper (CGS) presentan patrones\n",
    "similares, mientras que el diésel (CD) destaca con un consumo promedio de 1,209,092,\n",
    "indicando su mayor uso, posiblemente en sectores industriales o de transporte.\n",
    "\n",
    "</div>"
   ]
  },
  {
   "cell_type": "code",
   "execution_count": 4,
   "id": "8ba0e8e5-71ca-4327-ae36-2a433fd331e4",
   "metadata": {},
   "outputs": [
    {
     "name": "stderr",
     "output_type": "stream",
     "text": [
      "Warning message:\n",
      "\"\u001b[1m\u001b[22mRemoved 1 row containing missing values or values outside the scale range (`geom_line()`).\"\n",
      "Warning message:\n",
      "\"\u001b[1m\u001b[22mRemoved 1 row containing missing values or values outside the scale range (`geom_line()`).\"\n",
      "Warning message:\n",
      "\"\u001b[1m\u001b[22mRemoved 1 row containing missing values or values outside the scale range (`geom_line()`).\"\n"
     ]
    },
    {
     "data": {
      "image/png": "[encoded data removed]",
      "text/plain": [
       "plot without title"
      ]
     },
     "metadata": {
      "image/png": {
       "height": 420,
       "width": 420
      }
     },
     "output_type": "display_data"
    }
   ],
   "source": [
    "suppressWarnings({\n",
    "  ggplot(df, aes(x = Años)) +\n",
    "    geom_line(aes(y = PGS, color = \"Gasolina Super\"), linewidth = 1) +\n",
    "    geom_line(aes(y = PGR, color = \"Gasolina Regular\"), linewidth = 1) +\n",
    "    geom_line(aes(y = PD, color = \"Diésel\"), linewidth = 1) +\n",
    "    labs(title = \"Evolución de los precios de combustibles\",\n",
    "         x = \"Fecha\", y = \"Precio (Q)\") +\n",
    "    scale_color_manual(values = c(\"Gasolina Super\" = \"blue\",\n",
    "                                  \"Gasolina Regular\" = \"green\",\n",
    "                                  \"Diésel\" = \"red\")) +\n",
    "    theme_minimal() +\n",
    "    theme(aspect.ratio = 0.5) \n",
    "})"
   ]
  },
  {
   "attachments": {},
   "cell_type": "markdown",
   "id": "c710cb6b-8b5e-4ada-93b1-11168581b934",
   "metadata": {},
   "source": [
    "<div style=\"font-size: 18px; text-align: justify;\">\n",
    "Se graficaron las series de tiempo para observar la evolución de los precios de la gasolina\n",
    "superior (PGS), gasolina regular (PGR) y diésel (PD) en Guatemala, mostrando la\n",
    "tendencia temporal de cada precio de combustible.\n",
    "</div>"
   ]
  },
  {
   "cell_type": "code",
   "execution_count": 5,
   "id": "331e8cca-9872-4fea-a8bd-bf89746bdf2d",
   "metadata": {},
   "outputs": [
    {
     "data": {
      "image/png": "[encoded data removed]",
      "text/plain": [
       "plot without title"
      ]
     },
     "metadata": {
      "image/png": {
       "height": 420,
       "width": 420
      }
     },
     "output_type": "display_data"
    }
   ],
   "source": [
    "# crear figuras de correlaciones con histograma. \n",
    "df_subset <- df[, -c(1, 9)]\n",
    "pairs.panels( \n",
    "  df_subset, \n",
    "  pch = 20, \n",
    "  stars = TRUE, \n",
    "  main = \"Matriz de diagrama de dispersión\"\n",
    ")\n"
   ]
  },
  {
   "cell_type": "code",
   "execution_count": 6,
   "id": "7b3c3846-4f78-4cfa-92b3-ad6b82e8322b",
   "metadata": {},
   "outputs": [
    {
     "name": "stderr",
     "output_type": "stream",
     "text": [
      "\u001b[1m\u001b[22m`geom_smooth()` using formula = 'y ~ x'\n",
      "\u001b[1m\u001b[22m`geom_smooth()` using formula = 'y ~ x'\n",
      "\u001b[1m\u001b[22m`geom_smooth()` using formula = 'y ~ x'\n"
     ]
    },
    {
     "data": {
      "image/png": "[encoded data removed]",
      "text/plain": [
       "plot without title"
      ]
     },
     "metadata": {
      "image/png": {
       "height": 420,
       "width": 420
      }
     },
     "output_type": "display_data"
    }
   ],
   "source": [
    "suppressWarnings({\n",
    "  common_limits <- range(c(df$PGS, df$PGR, df$PD))\n",
    "  \n",
    "  # Ajustamos los límites y márgenes del eje x\n",
    "  max_x <- max(df$PPC) + (max(df$PPC) - min(df$PPC)) * 0.1\n",
    "  min_x <- min(df$PPC) - (max(df$PPC) - min(df$PPC)) * 0.1\n",
    "\n",
    "  p1 <- ggplot(df, aes(x = PPC, y = PGS)) +\n",
    "    geom_point(color = \"blue\") +\n",
    "    geom_smooth(method = \"lm\", se = TRUE, color = \"blue\") +\n",
    "    labs(title = \"Grafica de dispersión\",\n",
    "         x = \"Precio de petróleo\", y = \"GSuper\") +\n",
    "    theme_minimal() +\n",
    "    theme(plot.title = element_text(hjust = 0.5)) +\n",
    "    xlim(min_x, max_x) + ylim(common_limits)\n",
    "  \n",
    "  p2 <- ggplot(df, aes(x = PPC, y = PGR)) +\n",
    "    geom_point(color = \"green\") +\n",
    "    geom_smooth(method = \"lm\", se = TRUE, color = \"green\") +\n",
    "    labs(title = \"Grafica de dispersión\",\n",
    "         x = \"Precio de petróleo\", y = \"GRegular\") +\n",
    "    theme_minimal() +\n",
    "    theme(plot.title = element_text(hjust = 0.5)) +\n",
    "    xlim(min_x, max_x) + ylim(common_limits)\n",
    "  \n",
    "  p3 <- ggplot(df, aes(x = PPC, y = PD)) +\n",
    "    geom_point(color = \"red\") +\n",
    "    geom_smooth(method = \"lm\", se = TRUE, color = \"red\") +\n",
    "    labs(title = \"Grafica de dispersión\",\n",
    "         x = \"Precio de petróleo\", y = \"Diésel\") +\n",
    "    theme_minimal() +\n",
    "    theme(plot.title = element_text(hjust = 0.5)) +\n",
    "    xlim(min_x, max_x) + ylim(common_limits)\n",
    "  \n",
    "  grid.arrange(p1, p2, p3, ncol = 3)\n",
    "})\n"
   ]
  },
  {
   "cell_type": "code",
   "execution_count": 7,
   "id": "25cb2179-5d4e-4660-9f84-18ea53c6814e",
   "metadata": {},
   "outputs": [
    {
     "data": {
      "text/plain": [
       "\n",
       "Call:\n",
       "lm(formula = PGS ~ PPC + CGS, data = df)\n",
       "\n",
       "Residuals:\n",
       "    Min      1Q  Median      3Q     Max \n",
       "-5.0817 -1.9340  0.3189  2.0659  4.1626 \n",
       "\n",
       "Coefficients:\n",
       "              Estimate Std. Error t value Pr(>|t|)    \n",
       "(Intercept)  4.321e+01  7.903e+00   5.467 5.63e-06 ***\n",
       "PPC          1.631e-01  4.005e-02   4.072 0.000299 ***\n",
       "CGS         -3.712e-05  9.670e-06  -3.839 0.000570 ***\n",
       "---\n",
       "Signif. codes:  0 '***' 0.001 '**' 0.01 '*' 0.05 '.' 0.1 ' ' 1\n",
       "\n",
       "Residual standard error: 2.731 on 31 degrees of freedom\n",
       "  (3 observations deleted due to missingness)\n",
       "Multiple R-squared:  0.6431,\tAdjusted R-squared:  0.6201 \n",
       "F-statistic: 27.93 on 2 and 31 DF,  p-value: 1.161e-07\n"
      ]
     },
     "metadata": {},
     "output_type": "display_data"
    }
   ],
   "source": [
    "# MODELO 1 Dependiente de precios de gasolinas(PG), Independiente Consumo de gasolinas super (CGS), Precio de petroleo (PPC)\n",
    "# Ajustar modelo de rmúltiple\n",
    "modelo1 <- lm(PGS ~ PPC + CGS, data = df)\n",
    "summary(modelo1)\n",
    "# Obtener los residuos del modelo\n",
    "residuos1 <- residuals(modelo1)\n"
   ]
  },
  {
   "cell_type": "code",
   "execution_count": 8,
   "id": "96970000-7420-4a2e-94b7-3ae4d1501825",
   "metadata": {},
   "outputs": [
    {
     "data": {
      "text/plain": [
       "\n",
       "\tJarque Bera Test\n",
       "\n",
       "data:  residuos1\n",
       "X-squared = 1.6643, df = 2, p-value = 0.4351\n"
      ]
     },
     "metadata": {},
     "output_type": "display_data"
    },
    {
     "data": {
      "image/png": "[encoded data removed]",
      "text/plain": [
       "Plot with title \"Histograma de Residuos de GS\""
      ]
     },
     "metadata": {
      "image/png": {
       "height": 420,
       "width": 420
      }
     },
     "output_type": "display_data"
    }
   ],
   "source": [
    "# 1. NORMALIDAD DE LOS RESIDUOS\n",
    "\n",
    "# Histograma\n",
    "hist(residuos1, breaks = 15, \n",
    "     main = \"Histograma de Residuos de GS\", \n",
    "     xlab = \"Residuos\")\n",
    "# Prueba de Jarque-Bera\n",
    "jarque.bera.test(residuos1)\n"
   ]
  },
  {
   "cell_type": "code",
   "execution_count": 9,
   "id": "ca30f325-74f9-4f00-adea-c48d51f84d1a",
   "metadata": {},
   "outputs": [
    {
     "data": {
      "text/plain": [
       "\n",
       "\tDurbin-Watson test\n",
       "\n",
       "data:  modelo1\n",
       "DW = 0.92844, p-value = 0.0001168\n",
       "alternative hypothesis: true autocorrelation is greater than 0\n"
      ]
     },
     "metadata": {},
     "output_type": "display_data"
    },
    {
     "data": {
      "image/png": "[encoded data removed]",
      "text/plain": [
       "Plot with title \"Correlograma de Residuos de GS\""
      ]
     },
     "metadata": {
      "image/png": {
       "height": 420,
       "width": 420
      }
     },
     "output_type": "display_data"
    }
   ],
   "source": [
    "# 2. AUTOCORRELACIÓN DE RESIDUOS\n",
    "\n",
    "# Prueba de Durbin-Watson\n",
    "dwtest(modelo1)\n",
    "# Correlograma (ACF) de los residuos\n",
    "acf(residuos1, main = \"Correlograma de Residuos de GS\")\n",
    "\n"
   ]
  },
  {
   "cell_type": "code",
   "execution_count": 10,
   "id": "7437b49e-2bac-4471-9fea-90356973e1bb",
   "metadata": {},
   "outputs": [
    {
     "data": {
      "text/plain": [
       "\n",
       "Call:\n",
       "lm(formula = REZAGOGS ~ PPC + CGS, data = df)\n",
       "\n",
       "Residuals:\n",
       "    Min      1Q  Median      3Q     Max \n",
       "-5.2679 -0.9582  0.0697  0.8052  4.3837 \n",
       "\n",
       "Coefficients:\n",
       "              Estimate Std. Error t value Pr(>|t|)\n",
       "(Intercept) -2.368e+00  5.412e+00  -0.438    0.665\n",
       "PPC          2.271e-02  2.742e-02   0.828    0.414\n",
       "CGS          1.483e-06  6.622e-06   0.224    0.824\n",
       "\n",
       "Residual standard error: 1.87 on 31 degrees of freedom\n",
       "  (3 observations deleted due to missingness)\n",
       "Multiple R-squared:  0.0224,\tAdjusted R-squared:  -0.04067 \n",
       "F-statistic: 0.3551 on 2 and 31 DF,  p-value: 0.7039\n"
      ]
     },
     "metadata": {},
     "output_type": "display_data"
    },
    {
     "data": {
      "text/plain": [
       "\n",
       "\tDurbin-Watson test\n",
       "\n",
       "data:  rezago1\n",
       "DW = 1.9074, p-value = 0.3094\n",
       "alternative hypothesis: true autocorrelation is greater than 0\n"
      ]
     },
     "metadata": {},
     "output_type": "display_data"
    },
    {
     "data": {
      "image/png": "[encoded data removed]",
      "text/plain": [
       "Plot with title \"Correlograma de Residuos con Rezago de GS\""
      ]
     },
     "metadata": {
      "image/png": {
       "height": 420,
       "width": 420
      }
     },
     "output_type": "display_data"
    }
   ],
   "source": [
    "# Ajuste de autocorrelación rezago\n",
    "rezago1 <- lm(REZAGOGS ~ PPC + CGS, data = df)\n",
    "summary(rezago1)\n",
    "# Obtener los residuos del modelo\n",
    "residuos_rezago1 <- residuals(rezago1)\n",
    "dwtest(rezago1)\n",
    "# Correlograma (ACF) de los residuos\n",
    "acf(residuos_rezago1, \n",
    "    main = \"Correlograma de Residuos con Rezago de GS\")"
   ]
  },
  {
   "cell_type": "code",
   "execution_count": 11,
   "id": "c2e4a2a6-5ad3-44e2-82f7-d3fab2beaa17",
   "metadata": {},
   "outputs": [
    {
     "data": {
      "text/plain": [
       "\n",
       "\tstudentized Breusch-Pagan test\n",
       "\n",
       "data:  modelo1\n",
       "BP = 2.1498, df = 2, p-value = 0.3413\n"
      ]
     },
     "metadata": {},
     "output_type": "display_data"
    },
    {
     "data": {
      "text/plain": [
       "\n",
       "\tstudentized Breusch-Pagan test\n",
       "\n",
       "data:  modelo1\n",
       "BP = 8.1205, df = 4, p-value = 0.08726\n"
      ]
     },
     "metadata": {},
     "output_type": "display_data"
    }
   ],
   "source": [
    "# 3. HETEROCEDASTICIDAD\n",
    "\n",
    "# Prueba de Breusch-Pagan\n",
    "bptest(modelo1)\n",
    "# Prueba de White\n",
    "bptest(modelo1, ~ PPC + CGS + I(PPC^2) + I(CGS^2), data = df)\n"
   ]
  },
  {
   "cell_type": "code",
   "execution_count": 12,
   "id": "b0cd5b92-aea0-462c-816c-81368e838d8c",
   "metadata": {},
   "outputs": [
    {
     "data": {
      "text/plain": [
       "\n",
       "Call:\n",
       "lm(formula = PGR ~ PPC + CGR, data = df)\n",
       "\n",
       "Residuals:\n",
       "    Min      1Q  Median      3Q     Max \n",
       "-6.4948 -1.5471  0.0028  2.0279  4.2720 \n",
       "\n",
       "Coefficients:\n",
       "              Estimate Std. Error t value Pr(>|t|)    \n",
       "(Intercept) -2.432e+00  5.855e+00  -0.415  0.68075    \n",
       "PPC          1.917e-01  3.533e-02   5.428  6.3e-06 ***\n",
       "CGR          2.566e-05  7.392e-06   3.471  0.00155 ** \n",
       "---\n",
       "Signif. codes:  0 '***' 0.001 '**' 0.01 '*' 0.05 '.' 0.1 ' ' 1\n",
       "\n",
       "Residual standard error: 2.642 on 31 degrees of freedom\n",
       "  (3 observations deleted due to missingness)\n",
       "Multiple R-squared:  0.6148,\tAdjusted R-squared:  0.5899 \n",
       "F-statistic: 24.73 on 2 and 31 DF,  p-value: 3.792e-07\n"
      ]
     },
     "metadata": {},
     "output_type": "display_data"
    }
   ],
   "source": [
    "# MODELO 2 Dependiente de precios de gasolinas(PG), Independiente Consumo de gasolinas Regular (CGR), Precio de petroleo (PPC)\n",
    "# Ajustar modelo de rmúltiple\n",
    "modelo2 <- lm(PGR ~ PPC + CGR, data = df)\n",
    "summary(modelo2)\n",
    "# Obtener los residuos del modelo\n",
    "residuos2 <- residuals(modelo2)\n"
   ]
  },
  {
   "cell_type": "code",
   "execution_count": 13,
   "id": "413a62b7-6ed2-4f42-b04e-03278fe26045",
   "metadata": {},
   "outputs": [
    {
     "data": {
      "text/plain": [
       "\n",
       "\tJarque Bera Test\n",
       "\n",
       "data:  residuos2\n",
       "X-squared = 0.61761, df = 2, p-value = 0.7343\n"
      ]
     },
     "metadata": {},
     "output_type": "display_data"
    },
    {
     "data": {
      "image/png": "[encoded data removed]",
      "text/plain": [
       "Plot with title \"Histograma de Residuos de GR\""
      ]
     },
     "metadata": {
      "image/png": {
       "height": 420,
       "width": 420
      }
     },
     "output_type": "display_data"
    }
   ],
   "source": [
    "# 1. NORMALIDAD DE LOS RESIDUOS\n",
    "# Histograma \n",
    "hist(residuos2, breaks = 15, \n",
    "     main = \"Histograma de Residuos de GR\", xlab = \"Residuos\")\n",
    "\n",
    "# Prueba de Jarque-Bera \n",
    "jarque.bera.test(residuos2)\n"
   ]
  },
  {
   "cell_type": "code",
   "execution_count": 14,
   "id": "f8afd847-0d0a-4768-8bc5-2c1a36f0cd0b",
   "metadata": {},
   "outputs": [
    {
     "data": {
      "text/plain": [
       "\n",
       "\tDurbin-Watson test\n",
       "\n",
       "data:  modelo2\n",
       "DW = 1.5771, p-value = 0.06302\n",
       "alternative hypothesis: true autocorrelation is greater than 0\n"
      ]
     },
     "metadata": {},
     "output_type": "display_data"
    },
    {
     "data": {
      "image/png": "[encoded data removed]",
      "text/plain": [
       "Plot with title \"Correlograma de Residuos de GR\""
      ]
     },
     "metadata": {
      "image/png": {
       "height": 420,
       "width": 420
      }
     },
     "output_type": "display_data"
    }
   ],
   "source": [
    "# 2. AUTOCORRELACIÓN DE RESIDUOS\n",
    "\n",
    "# Prueba de Durbin-Watson\n",
    "dwtest(modelo2)\n",
    "# Correlograma (ACF) de los residuos\n",
    "acf(residuos2, main = \"Correlograma de Residuos de GR\")\n",
    "\n"
   ]
  },
  {
   "cell_type": "code",
   "execution_count": 15,
   "id": "27363587-6b98-4143-82ee-ca0a7a86aaba",
   "metadata": {},
   "outputs": [
    {
     "data": {
      "text/plain": [
       "\n",
       "Call:\n",
       "lm(formula = REZAGOGS ~ PPC + CGR, data = df)\n",
       "\n",
       "Residuals:\n",
       "    Min      1Q  Median      3Q     Max \n",
       "-5.0913 -0.7717 -0.1853  0.6276  3.6568 \n",
       "\n",
       "Coefficients:\n",
       "              Estimate Std. Error t value Pr(>|t|)  \n",
       "(Intercept)  5.770e+00  3.889e+00   1.484   0.1480  \n",
       "PPC          2.837e-02  2.347e-02   1.209   0.2359  \n",
       "CGR         -1.014e-05  4.910e-06  -2.065   0.0473 *\n",
       "---\n",
       "Signif. codes:  0 '***' 0.001 '**' 0.01 '*' 0.05 '.' 0.1 ' ' 1\n",
       "\n",
       "Residual standard error: 1.755 on 31 degrees of freedom\n",
       "  (3 observations deleted due to missingness)\n",
       "Multiple R-squared:  0.1393,\tAdjusted R-squared:  0.08372 \n",
       "F-statistic: 2.508 on 2 and 31 DF,  p-value: 0.09785\n"
      ]
     },
     "metadata": {},
     "output_type": "display_data"
    },
    {
     "data": {
      "text/plain": [
       "\n",
       "\tDurbin-Watson test\n",
       "\n",
       "data:  rezago2\n",
       "DW = 1.9254, p-value = 0.3167\n",
       "alternative hypothesis: true autocorrelation is greater than 0\n"
      ]
     },
     "metadata": {},
     "output_type": "display_data"
    },
    {
     "data": {
      "image/png": "[encoded data removed]",
      "text/plain": [
       "Plot with title \"Correlograma de Residuos con Rezago de GR\""
      ]
     },
     "metadata": {
      "image/png": {
       "height": 420,
       "width": 420
      }
     },
     "output_type": "display_data"
    }
   ],
   "source": [
    "# Ajuste de autocorrelación rezago\n",
    "rezago2 <- lm(REZAGOGS ~ PPC + CGR, data = df)\n",
    "summary(rezago2)\n",
    "# Obtener los residuos del modelo\n",
    "residuos_rezago2 <- residuals(rezago2)\n",
    "dwtest(rezago2)\n",
    "# Correlograma (ACF) de los residuos\n",
    "acf(residuos_rezago2, main = \"Correlograma de Residuos con Rezago de GR\")"
   ]
  },
  {
   "cell_type": "code",
   "execution_count": 16,
   "id": "66f6c97f-7321-471c-a732-127a576fa8bd",
   "metadata": {},
   "outputs": [
    {
     "data": {
      "text/plain": [
       "\n",
       "\tstudentized Breusch-Pagan test\n",
       "\n",
       "data:  modelo2\n",
       "BP = 1.7467, df = 2, p-value = 0.4176\n"
      ]
     },
     "metadata": {},
     "output_type": "display_data"
    },
    {
     "data": {
      "text/plain": [
       "\n",
       "\tstudentized Breusch-Pagan test\n",
       "\n",
       "data:  modelo2\n",
       "BP = 4.2483, df = 4, p-value = 0.3734\n"
      ]
     },
     "metadata": {},
     "output_type": "display_data"
    }
   ],
   "source": [
    "# 3. HETEROCEDASTICIDAD\n",
    "\n",
    "# Prueba de Breusch-Pagan\n",
    "bptest(modelo2)\n",
    "# Prueba de White\n",
    "bptest(modelo2, ~ PPC + CGR + I(PPC^2) + I(CGR^2), \n",
    "       data = df)\n"
   ]
  },
  {
   "cell_type": "code",
   "execution_count": 17,
   "id": "aad699a5-ad28-48a2-b87a-0fab51df4d60",
   "metadata": {},
   "outputs": [
    {
     "data": {
      "text/plain": [
       "\n",
       "Call:\n",
       "lm(formula = PD ~ PPC + CD, data = df)\n",
       "\n",
       "Residuals:\n",
       "    Min      1Q  Median      3Q     Max \n",
       "-7.1524 -3.4838 -0.7527  3.4749  9.6706 \n",
       "\n",
       "Coefficients:\n",
       "              Estimate Std. Error t value Pr(>|t|)    \n",
       "(Intercept)  2.529e+01  1.086e+01   2.329 0.026547 *  \n",
       "PPC          2.360e-01  6.297e-02   3.748 0.000732 ***\n",
       "CD          -1.203e-05  7.684e-06  -1.566 0.127543    \n",
       "---\n",
       "Signif. codes:  0 '***' 0.001 '**' 0.01 '*' 0.05 '.' 0.1 ' ' 1\n",
       "\n",
       "Residual standard error: 4.774 on 31 degrees of freedom\n",
       "  (3 observations deleted due to missingness)\n",
       "Multiple R-squared:  0.3562,\tAdjusted R-squared:  0.3147 \n",
       "F-statistic: 8.577 on 2 and 31 DF,  p-value: 0.001085\n"
      ]
     },
     "metadata": {},
     "output_type": "display_data"
    }
   ],
   "source": [
    "# MODELO 3 Dependiente de precios de gasolinas(PG), Independiente Consumo de diésel (CD), Precio de petroleo (PPC)\n",
    "\n",
    "# Ajustar modelo de rmúltiple\n",
    "modelo3 <- lm(PD ~ PPC + CD, data = df)\n",
    "summary(modelo3)\n",
    "# Obtener los residuos del modelo\n",
    "residuos3 <- residuals(modelo3)"
   ]
  },
  {
   "cell_type": "code",
   "execution_count": 18,
   "id": "b8850122-a6b4-47ab-ae77-992e84fb1aea",
   "metadata": {},
   "outputs": [
    {
     "data": {
      "text/plain": [
       "\n",
       "\tJarque Bera Test\n",
       "\n",
       "data:  residuos3\n",
       "X-squared = 1.9485, df = 2, p-value = 0.3775\n"
      ]
     },
     "metadata": {},
     "output_type": "display_data"
    },
    {
     "data": {
      "image/png": "[encoded data removed]",
      "text/plain": [
       "Plot with title \"Histograma de Residuos de diésel\""
      ]
     },
     "metadata": {
      "image/png": {
       "height": 420,
       "width": 420
      }
     },
     "output_type": "display_data"
    }
   ],
   "source": [
    "# 1. NORMALIDAD DE LOS RESIDUOS\n",
    "\n",
    "# Histograma \n",
    "hist(residuos3, breaks = 15, \n",
    "     main = \"Histograma de Residuos de diésel\", \n",
    "     xlab = \"Residuos\")\n",
    "# Prueba de Jarque-Bera \n",
    "jarque.bera.test(residuos3)"
   ]
  },
  {
   "cell_type": "code",
   "execution_count": 19,
   "id": "882e3951-064a-4e9c-9e86-27113b93634a",
   "metadata": {},
   "outputs": [
    {
     "data": {
      "text/plain": [
       "\n",
       "\tDurbin-Watson test\n",
       "\n",
       "data:  modelo3\n",
       "DW = 0.49766, p-value = 1.211e-08\n",
       "alternative hypothesis: true autocorrelation is greater than 0\n"
      ]
     },
     "metadata": {},
     "output_type": "display_data"
    },
    {
     "data": {
      "image/png": "[encoded data removed]",
      "text/plain": [
       "Plot with title \"Correlograma de Residuos de diésel\""
      ]
     },
     "metadata": {
      "image/png": {
       "height": 420,
       "width": 420
      }
     },
     "output_type": "display_data"
    }
   ],
   "source": [
    "# 2. AUTOCORRELACIÓN DE RESIDUOS\n",
    "\n",
    "# Prueba de Durbin-Watson\n",
    "dwtest(modelo3)\n",
    "# Correlograma (ACF) de los residuos\n",
    "acf(residuos3, main = \"Correlograma de Residuos de diésel\")\n",
    "\n",
    "\n"
   ]
  },
  {
   "cell_type": "code",
   "execution_count": 20,
   "id": "4c8068f0-6166-4286-bce0-9f08046b6009",
   "metadata": {},
   "outputs": [
    {
     "data": {
      "text/plain": [
       "\n",
       "Call:\n",
       "lm(formula = REZAGOGS ~ PPC + CD, data = df)\n",
       "\n",
       "Residuals:\n",
       "    Min      1Q  Median      3Q     Max \n",
       "-5.1498 -1.1736  0.0666  0.7843  4.1226 \n",
       "\n",
       "Coefficients:\n",
       "              Estimate Std. Error t value Pr(>|t|)\n",
       "(Intercept) -4.036e+00  4.218e+00  -0.957    0.346\n",
       "PPC          2.097e-02  2.446e-02   0.857    0.398\n",
       "CD           2.246e-06  2.985e-06   0.752    0.458\n",
       "\n",
       "Residual standard error: 1.855 on 31 degrees of freedom\n",
       "  (3 observations deleted due to missingness)\n",
       "Multiple R-squared:  0.03837,\tAdjusted R-squared:  -0.02367 \n",
       "F-statistic: 0.6185 on 2 and 31 DF,  p-value: 0.5453\n"
      ]
     },
     "metadata": {},
     "output_type": "display_data"
    },
    {
     "data": {
      "text/plain": [
       "\n",
       "\tDurbin-Watson test\n",
       "\n",
       "data:  rezago3\n",
       "DW = 2.012, p-value = 0.4145\n",
       "alternative hypothesis: true autocorrelation is greater than 0\n"
      ]
     },
     "metadata": {},
     "output_type": "display_data"
    },
    {
     "data": {
      "image/png": "[encoded data removed]",
      "text/plain": [
       "Plot with title \"Correlograma de Residuos con Rezago de diésel\""
      ]
     },
     "metadata": {
      "image/png": {
       "height": 420,
       "width": 420
      }
     },
     "output_type": "display_data"
    }
   ],
   "source": [
    "# Ajuste de autocorrelación\n",
    "rezago3 <- lm(REZAGOGS ~ PPC + CD, data = df)\n",
    "summary(rezago3)\n",
    "# Obtener los residuos del modelo\n",
    "residuos_rezago3 <- residuals(rezago3)\n",
    "# Prueba de Durbin-Watson\n",
    "dwtest(rezago3)\n",
    "# Correlograma (ACF) de los residuos\n",
    "acf(residuos_rezago3, \n",
    "    main = \"Correlograma de Residuos con Rezago de diésel\")"
   ]
  },
  {
   "cell_type": "code",
   "execution_count": 21,
   "id": "1cf20d82-29e3-49b2-b67c-0657f4a3c192",
   "metadata": {},
   "outputs": [
    {
     "data": {
      "text/plain": [
       "\n",
       "\tstudentized Breusch-Pagan test\n",
       "\n",
       "data:  modelo3\n",
       "BP = 1.2682, df = 2, p-value = 0.5304\n"
      ]
     },
     "metadata": {},
     "output_type": "display_data"
    },
    {
     "data": {
      "text/plain": [
       "\n",
       "\tstudentized Breusch-Pagan test\n",
       "\n",
       "data:  modelo3\n",
       "BP = 3.4338, df = 4, p-value = 0.488\n"
      ]
     },
     "metadata": {},
     "output_type": "display_data"
    }
   ],
   "source": [
    "# 3. HETEROCEDASTICIDAD\n",
    "\n",
    "# Prueba de Breusch-Pagan\n",
    "bptest(modelo3)\n",
    "# Prueba de White\n",
    "bptest(modelo3, ~ PPC + CD + I(PPC^2) + I(CD^2), \n",
    "       data = df)\n"
   ]
  }
 ],
 "metadata": {
  "kernelspec": {
   "display_name": "R",
   "language": "R",
   "name": "ir"
  },
  "language_info": {
   "codemirror_mode": "r",
   "file_extension": ".r",
   "mimetype": "text/x-r-source",
   "name": "R",
   "pygments_lexer": "r",
   "version": "4.4.1"
  }
 },
 "nbformat": 4,
 "nbformat_minor": 5
}
