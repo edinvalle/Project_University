{
 "cells": [
  {
   "cell_type": "markdown",
   "id": "7e8894ce-3d98-4355-b2c6-338161f0c00b",
   "metadata": {},
   "source": [
    "<h2 style=\"text-align:center;\">INDICE DE HERFINDAHL-HIRSCHMAN</h2>"
   ]
  },
  {
   "cell_type": "code",
   "execution_count": 7,
   "id": "4095333b-ef15-4dee-bf47-182c8c821343",
   "metadata": {},
   "outputs": [
    {
     "name": "stdout",
     "output_type": "stream",
     "text": [
      "   Año Gasolina_Super Gasolina_Regular Diesel     HHI\n",
      "1 2008           19.8             11.2   38.1 1969.09\n",
      "2 2009           20.5             13.1   37.9 2028.27\n",
      "3 2010           21.9             13.5   37.7 2083.15\n",
      "4 2011           19.7             13.5   39.1 2099.15\n",
      "5 2012           20.5             12.5   41.8 2323.74\n"
     ]
    }
   ],
   "source": [
    "# Crear el DataFrame \n",
    "datos <- data.frame(\n",
    "  Año = c(2008, 2009, 2010, 2011, 2012),\n",
    "  Gasolina_Super = c(19.8, 20.5, 21.9, 19.7, 20.5),\n",
    "  Gasolina_Regular = c(11.2, 13.1, 13.5, 13.5, 12.5),\n",
    "  Diesel = c(38.1, 37.9, 37.7, 39.1, 41.8)\n",
    ")\n",
    "\n",
    "# Calcular el índice de Herfindahl-Hirschman\n",
    "datos$HHI <- (datos$Gasolina_Super / 100)^2 + \n",
    "  (datos$Gasolina_Regular / 100)^2 + \n",
    "  (datos$Diesel / 100)^2\n",
    "\n",
    "# Multiplicar por 10,000 para obtener el HHI en escala tradicional\n",
    "datos$HHI <- datos$HHI * 10000\n",
    "\n",
    "print(datos)\n"
   ]
  },
  {
   "cell_type": "code",
   "execution_count": 9,
   "id": "aa864c0d-c53b-4db2-9774-7b41c7ae7a0d",
   "metadata": {},
   "outputs": [
    {
     "data": {
      "image/png": "[encoded data removed]",
      "text/plain": [
       "plot without title"
      ]
     },
     "metadata": {
      "image/png": {
       "height": 420,
       "width": 420
      }
     },
     "output_type": "display_data"
    }
   ],
   "source": [
    "# Cargar ggplot2\n",
    "library(ggplot2)\n",
    "# graficar el índice de Herfindahl-Hirschman \n",
    "suppressWarnings({\n",
    "  ggplot(datos, aes(x = Año, y = HHI)) +\n",
    "    geom_line(color = \"blue\", size = 1) +\n",
    "    labs(title = \"Índice de Herfindahl-Hirschman para los años 2008-2012\",\n",
    "         x = \"Año\", y = \"HHI\") +\n",
    "    theme_minimal()\n",
    "})"
   ]
  },
  {
   "cell_type": "code",
   "execution_count": 13,
   "id": "a1b83748-3f55-4c7f-aebf-ca8927eaeabf",
   "metadata": {},
   "outputs": [
    {
     "name": "stdout",
     "output_type": "stream",
     "text": [
      "          Producto      HHI\n",
      "1   Gasolina Super 2002.945\n",
      "2 Gasolina Regular 2009.119\n",
      "3           Diesel 2003.044\n"
     ]
    }
   ],
   "source": [
    "# Calcular el HHI por producto (Gasolina Super, Gasolina Regular, Diesel)\n",
    "hhi_super <- sum((datos$Gasolina_Super / sum(datos$Gasolina_Super))^2) * 10000\n",
    "hhi_regular <- sum((datos$Gasolina_Regular / sum(datos$Gasolina_Regular))^2) * 10000\n",
    "hhi_diesel <- sum((datos$Diesel / sum(datos$Diesel))^2) * 10000\n",
    "\n",
    "# Crear un DataFrame con los resultados\n",
    "hhi_productos <- data.frame(\n",
    "  Producto = c(\"Gasolina Super\", \"Gasolina Regular\", \"Diesel\"),\n",
    "  HHI = c(hhi_super, hhi_regular, hhi_diesel)\n",
    ")\n",
    "print(hhi_productos)"
   ]
  }
 ],
 "metadata": {
  "kernelspec": {
   "display_name": "R",
   "language": "R",
   "name": "ir"
  },
  "language_info": {
   "codemirror_mode": "r",
   "file_extension": ".r",
   "mimetype": "text/x-r-source",
   "name": "R",
   "pygments_lexer": "r",
   "version": "4.4.1"
  }
 },
 "nbformat": 4,
 "nbformat_minor": 5
}
